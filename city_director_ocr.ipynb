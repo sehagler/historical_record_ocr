{
 "cells": [
  {
   "cell_type": "code",
   "execution_count": null,
   "metadata": {
    "collapsed": false
   },
   "outputs": [],
   "source": [
    "# Imports\n",
    "import os\n",
    "from os import makedirs\n",
    "from shutil import copyfile\n",
    "import sys\n",
    "\n",
    "# Local Imports\n",
    "sys.path.insert(0, 'py')\n",
    "from encode_text_table import encode_text_table\n",
    "from json_to_text_table import json_to_text_table\n",
    "from pdf_page_to_segment_jpgs import pdf_page_to_segment_jpgs\n",
    "from segment_entries import segment_entries\n",
    "from segment_jpg_to_segment_json import segment_jpg_to_segment_json\n",
    "from text_table_to_entries import text_table_to_entries\n",
    "\n",
    "# Google cloud platform API key\n",
    "api_key = '****'\n",
    "\n",
    "#\n",
    "pdf_dir = os.getcwd() + '/pdf/'\n",
    "pdf_name = 'Gray-PDF-Duplex2.pdf'\n",
    "pdf_file = pdf_dir + pdf_name"
   ]
  },
  {
   "cell_type": "code",
   "execution_count": null,
   "metadata": {
    "collapsed": false
   },
   "outputs": [],
   "source": [
    "#\n",
    "directory_dir = os.getcwd() + '/' + pdf_name[:len(pdf_name)-4] + '/'\n",
    "makedirs(directory_dir, exist_ok=True)\n",
    "\n",
    "#\n",
    "directory_pdf_dir = directory_dir + '/pdf/'\n",
    "makedirs(directory_pdf_dir, exist_ok=True)\n",
    "\n",
    "#\n",
    "directory_pdf_file = directory_pdf_dir + pdf_name\n",
    "copyfile(pdf_file, directory_pdf_file)\n",
    "\n",
    "#\n",
    "directory_pages_dir = directory_dir + '/pages/'\n",
    "makedirs(directory_pages_dir, exist_ok=True)\n",
    "\n",
    "#\n",
    "directory_txt_dir = directory_dir + '/txt/'\n",
    "makedirs(directory_txt_dir, exist_ok=True)\n",
    "directory_txt_file = directory_txt_dir + pdf_name[:len(pdf_name)-4] + '.txt'"
   ]
  },
  {
   "cell_type": "code",
   "execution_count": null,
   "metadata": {
    "collapsed": false,
    "scrolled": true
   },
   "outputs": [],
   "source": [
    "#\n",
    "pg_to_jpgs = pdf_page_to_segment_jpgs(directory_pages_dir, 2, '600dpi', directory_pdf_file)\n",
    "jpg_to_json = segment_jpg_to_segment_json(api_key)\n",
    "\n",
    "# Process page JPGs\n",
    "for page in range(1):\n",
    "    \n",
    "    #\n",
    "    page_num = page + 1\n",
    "    \n",
    "    #\n",
    "    segment_jpgs_dir = directory_pages_dir + 'page_' + str(page_num) + '_segments/jpgs/'\n",
    "    makedirs(segment_jpgs_dir, exist_ok=True)\n",
    "    \n",
    "    #\n",
    "    segment_jsons_dir = directory_pages_dir + 'page_' + str(page_num) + '_segments/jsons/'\n",
    "    makedirs(segment_jsons_dir, exist_ok=True)\n",
    "    \n",
    "    print(page_num)\n",
    "        \n",
    "    segment_map = pg_to_jpgs.run(page_num, segment_jpgs_dir)\n",
    "                                                 \n",
    "    if False:\n",
    "        \n",
    "        segment_jpgs = os.listdir(segment_jpgs_dir)\n",
    "        for filename in segment_jpgs:\n",
    "            jpg_to_json.do_ocr(segment_jpgs_dir, segment_jsons_dir, filename)\n",
    "            \n",
    "        for i in range(len(segment_map)):\n",
    "            column_num = i + 1\n",
    "            text_table = []\n",
    "            for j in range(segment_map[i][2]-segment_map[i][1]):\n",
    "                filename = 'segment' + str(segment_map[i][1] + j) + '.json'\n",
    "                text_table_tmp = json_to_text_table().run(segment_jsons_dir + filename)\n",
    "                text_table.append(encode_text_table().run(text_table_tmp))\n",
    "            entries = text_table_to_entries().run(text_table)\n",
    "            seg_entries = segment_entries(directory_txt_file)\n",
    "            seg_entries.run(pdf_name, page_num, column_num, entries)"
   ]
  }
 ],
 "metadata": {
  "kernelspec": {
   "display_name": "Python 3",
   "language": "python",
   "name": "python3"
  },
  "language_info": {
   "codemirror_mode": {
    "name": "ipython",
    "version": 3
   },
   "file_extension": ".py",
   "mimetype": "text/x-python",
   "name": "python",
   "nbconvert_exporter": "python",
   "pygments_lexer": "ipython3",
   "version": "3.5.2"
  }
 },
 "nbformat": 4,
 "nbformat_minor": 2
}
