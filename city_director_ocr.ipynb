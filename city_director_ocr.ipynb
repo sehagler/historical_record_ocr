{
 "cells": [
  {
   "cell_type": "code",
   "execution_count": null,
   "metadata": {
    "collapsed": false
   },
   "outputs": [],
   "source": [
    "# Imports\n",
    "import os\n",
    "import sys\n",
    "\n",
    "# Local Imports\n",
    "sys.path.insert(0, 'py')\n",
    "from encode_text_table import encode_text_table\n",
    "from google_cloud_platform_ocr import google_cloud_platform_ocr\n",
    "from json_to_text_table import json_to_text_table\n",
    "from process_page_image import process_page_image\n",
    "from document_pdf_to_page_jpegs import document_pdf_to_page_jpegs\n",
    "from segment_entries import segment_entries\n",
    "from text_table_to_entries import text_table_to_entries\n",
    "\n",
    "# Directory and file definitions\n",
    "raw_columns_image_dir = 'image/columns/'\n",
    "raw_page_image_dir = 'image/raw_jpg/'\n",
    "raw_pdf_image_dir = 'image/raw_pdf/'\n",
    "processed_image_dir = 'image/processed_jpg/'\n",
    "txt_dir = 'txt/'\n",
    "\n",
    "# Google cloud platform API key\n",
    "api_key = '*****'"
   ]
  },
  {
   "cell_type": "code",
   "execution_count": null,
   "metadata": {
    "collapsed": true
   },
   "outputs": [],
   "source": [
    "# Name of PDF file without .pdf extension\n",
    "filename_base = 'Gray-PDF-Duplex2'"
   ]
  },
  {
   "cell_type": "code",
   "execution_count": null,
   "metadata": {
    "collapsed": false
   },
   "outputs": [],
   "source": [
    "# Extend relative paths to absolute paths\n",
    "cwd = os.getcwd()\n",
    "raw_page_image_dir = cwd + '/' + raw_page_image_dir\n",
    "raw_pdf_image_dir = cwd + '/' + raw_pdf_image_dir\n",
    "raw_columns_image_dir = cwd + '/' + raw_columns_image_dir\n",
    "processed_image_dir = cwd + '/' + processed_image_dir\n",
    "txt_dir = cwd + '/' + txt_dir\n",
    "\n",
    "# Define filenames\n",
    "pdf_filename = filename_base + '.pdf'\n",
    "txt_file = filename_base + '.txt'\n",
    "output_filename = filename_base + '_'\n",
    "raw_pdf_image_file = raw_pdf_image_dir + pdf_filename"
   ]
  },
  {
   "cell_type": "code",
   "execution_count": null,
   "metadata": {
    "collapsed": false
   },
   "outputs": [],
   "source": [
    "# Segment document PDF into page JPGs\n",
    "doc_pdf_to_page_jpgs = document_pdf_to_page_jpegs(raw_pdf_image_file, raw_page_image_dir, output_filename, '600dpi')\n",
    "doc_pdf_to_page_jpgs.run()"
   ]
  },
  {
   "cell_type": "code",
   "execution_count": null,
   "metadata": {
    "collapsed": false,
    "scrolled": true
   },
   "outputs": [],
   "source": [
    "# \n",
    "gcp_ocr = google_cloud_platform_ocr(api_key)\n",
    "pr_pg_im = process_page_image(processed_image_dir, 2, '600dpi')\n",
    "\n",
    "# Process page JPGs\n",
    "for page in range(10):\n",
    "    \n",
    "    page_num = page + 1\n",
    "    \n",
    "    print(page_num)\n",
    "\n",
    "    filename = output_filename + str(page_num) + '.jpg'\n",
    "    raw_page_image_file = raw_page_image_dir + filename\n",
    "    \n",
    "    segment_map = pr_pg_im.run(raw_page_image_file)\n",
    "                                                 \n",
    "    if True:\n",
    "        processed_segments_dir = processed_image_dir + 'segments_tmp/'\n",
    "        processed_segment_files = os.listdir(processed_segments_dir)\n",
    "        for filename in processed_segment_files:\n",
    "            gcp_ocr.do_ocr(processed_segments_dir + filename)\n",
    "\n",
    "        json_files = os.listdir('json/')\n",
    "        for i in range(len(segment_map)):\n",
    "            text_table = []\n",
    "            for j in range(segment_map[i][2]-segment_map[i][1]):\n",
    "                filename = 'segment' + str(segment_map[i][1] + j) + '.json'\n",
    "                text_table_tmp = json_to_text_table().run('json/' + filename)\n",
    "                text_table.append(encode_text_table().run(text_table_tmp))\n",
    "            entries = text_table_to_entries().run(text_table)\n",
    "            seg_entries = segment_entries(txt_dir, txt_file)\n",
    "            seg_entries.run(pdf_filename, page_num, entries)"
   ]
  }
 ],
 "metadata": {
  "kernelspec": {
   "display_name": "Python 3",
   "language": "python",
   "name": "python3"
  },
  "language_info": {
   "codemirror_mode": {
    "name": "ipython",
    "version": 3
   },
   "file_extension": ".py",
   "mimetype": "text/x-python",
   "name": "python",
   "nbconvert_exporter": "python",
   "pygments_lexer": "ipython3",
   "version": "3.5.2"
  }
 },
 "nbformat": 4,
 "nbformat_minor": 2
}
