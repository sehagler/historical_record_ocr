{
 "cells": [
  {
   "cell_type": "code",
   "execution_count": null,
   "metadata": {
    "collapsed": false
   },
   "outputs": [],
   "source": [
    "# Imports\n",
    "import os\n",
    "import random\n",
    "import sys\n",
    "\n",
    "# Local Imports\n",
    "sys.path.insert(0, 'py/hr_reader')\n",
    "from hr_reader import hr_reader\n",
    "\n",
    "# Google cloud platform API key\n",
    "api_key = '*****'\n",
    "\n",
    "#\n",
    "pdf_dir = os.getcwd() + '/pdf/'\n",
    "dpi_flg = '600dpi'\n",
    "num_cols = 2\n",
    "pdf_city = 'Saint Paul'\n",
    "pdf_year = 1941\n",
    "workspace = os.getcwd() + '/STPaul_1941/'"
   ]
  },
  {
   "cell_type": "code",
   "execution_count": null,
   "metadata": {
    "collapsed": false,
    "scrolled": false
   },
   "outputs": [],
   "source": [
    "#\n",
    "automated_segmentation_flg = True\n",
    "ditto_correction_flg = False\n",
    "pages = range(1915,2043)\n",
    "pdf_name = '1941 St. Paul City Directory.pdf'\n",
    "sect_dir = workspace + 'SECTION1/'\n",
    "\n",
    "#\n",
    "hr_reader(api_key, automated_segmentation_flg, ditto_correction_flg, pdf_dir, \n",
    "          sect_dir, pdf_name, pdf_city, pdf_year, dpi_flg, num_cols, pages)"
   ]
  },
  {
   "cell_type": "code",
   "execution_count": null,
   "metadata": {
    "collapsed": false
   },
   "outputs": [],
   "source": [
    "#\n",
    "automated_segmentation_flg = True\n",
    "ditto_correction_flg = True\n",
    "pages = range(20,1417)\n",
    "pdf_name = '1941 St. Paul City Directory.pdf'\n",
    "sect_dir = workspace + 'SECTION2/'\n",
    "\n",
    "#\n",
    "hr_reader(api_key, automated_segmentation_flg, ditto_correction_flg, pdf_dir, \n",
    "          sect_dir, pdf_name, pdf_city, pdf_year, dpi_flg, num_cols, pages)"
   ]
  }
 ],
 "metadata": {
  "kernelspec": {
   "display_name": "Python 3",
   "language": "python",
   "name": "python3"
  },
  "language_info": {
   "codemirror_mode": {
    "name": "ipython",
    "version": 3
   },
   "file_extension": ".py",
   "mimetype": "text/x-python",
   "name": "python",
   "nbconvert_exporter": "python",
   "pygments_lexer": "ipython3",
   "version": "3.5.2"
  }
 },
 "nbformat": 4,
 "nbformat_minor": 2
}
