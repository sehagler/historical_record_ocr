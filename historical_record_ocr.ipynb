{
 "cells": [
  {
   "cell_type": "code",
   "execution_count": null,
   "metadata": {
    "collapsed": false
   },
   "outputs": [],
   "source": [
    "# Imports\n",
    "import os\n",
    "import random\n",
    "import sys\n",
    "\n",
    "# Local Imports\n",
    "sys.path.insert(0, 'py/hr_main')\n",
    "from hr_main import hr_main\n",
    "\n",
    "# Google cloud platform API key\n",
    "api_key = '*****'\n",
    "\n",
    "#\n",
    "pdf_city = 'Saint Paul'\n",
    "pdf_year = 1941\n",
    "\n",
    "#\n",
    "dpi_flg = '600dpi'\n",
    "num_cols = 2\n",
    "\n",
    "#\n",
    "pdf_dir = os.getcwd() + '/pdf/'\n",
    "xlsx_dir = os.getcwd() + '/xlsx/'\n",
    "\n",
    "workspace = os.getcwd() + '/STPaul_1941/'"
   ]
  },
  {
   "cell_type": "code",
   "execution_count": null,
   "metadata": {
    "collapsed": false,
    "scrolled": false
   },
   "outputs": [],
   "source": [
    "#\n",
    "#business_automated_segmentation_flg = False\n",
    "#business_pages = range(1915,2043)\n",
    "#business_pdf_dir = pdf_dir\n",
    "#business_pdf_name = '1941 St. Paul City Directory.pdf'\n",
    "\n",
    "#\n",
    "pdf_automated_segmentation_flg = False\n",
    "pdf_name = '1941 St. Paul City Directory.pdf'\n",
    "pdf_pages = range(20,1417)\n",
    "\n",
    "#\n",
    "xlsx_first_name_abbr = '1941 First Name Abbreviations.xlsx'\n",
    "xlsx_general_abbr = '1941 General Abbreviations.xlsx'\n",
    "xlsx_occupation_abbr = '1941 Occupation Abbreviation.xlsx'\n",
    "\n",
    "#\n",
    "hr_main(api_key,  pdf_automated_segmentation_flg, pdf_city, pdf_year, dpi_flg, num_cols, pdf_dir, \n",
    "        pdf_name, pdf_pages, xlsx_dir, xlsx_first_name_abbr, xlsx_general_abbr, xlsx_occupation_abbr, \n",
    "        workspace)"
   ]
  }
 ],
 "metadata": {
  "kernelspec": {
   "display_name": "Python 3",
   "language": "python",
   "name": "python3"
  },
  "language_info": {
   "codemirror_mode": {
    "name": "ipython",
    "version": 3
   },
   "file_extension": ".py",
   "mimetype": "text/x-python",
   "name": "python",
   "nbconvert_exporter": "python",
   "pygments_lexer": "ipython3",
   "version": "3.5.2"
  }
 },
 "nbformat": 4,
 "nbformat_minor": 2
}
